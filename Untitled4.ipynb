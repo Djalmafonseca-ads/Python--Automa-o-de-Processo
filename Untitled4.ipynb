{
 "cells": [
  {
   "cell_type": "code",
   "execution_count": 45,
   "id": "e2a1ad96",
   "metadata": {},
   "outputs": [],
   "source": [
    "import pyautogui\n",
    "import time"
   ]
  },
  {
   "cell_type": "code",
   "execution_count": 47,
   "id": "a9e8b617",
   "metadata": {
    "scrolled": true
   },
   "outputs": [
    {
     "data": {
      "text/plain": [
       "'OK'"
      ]
     },
     "execution_count": 47,
     "metadata": {},
     "output_type": "execute_result"
    }
   ],
   "source": [
    "# O comando pyautogui.alert exibe uma mensagem de alerta para o usuário antes do processo ser iniciado\n",
    "pyautogui.alert(\"O código será iniciado. Não use nada do seu computador enquanto o código está rodando!\")\n",
    "\n",
    "\n",
    "# Comando que define o tempo de execução para cada processo \n",
    "pyautogui.PAUSE = 1\n",
    "\n",
    "\n",
    "# Comandos para abrir o google drive no computador\n",
    "\n",
    "# O comando pyautogui.press pressiona as teclas indicadas\n",
    "pyautogui.press('winleft')\n",
    "# O comando pyautogui.write irá digitar os caracteres da string que é passada\n",
    "pyautogui.write('chrome')\n",
    "pyautogui.press('enter')\n",
    "# time.sleep() é usado para inserir intervalo de tempo em pontos específicos\n",
    "time.sleep(1)\n",
    "pyautogui.write('https://drive.google.com/drive/u/0/my-drive')\n",
    "pyautogui.press('enter')\n",
    "\n",
    "# Entrar na área de trabalho do computador\n",
    "# O comando pyautogui.hotkey pode ser usado como atalhos e mudanças de páginas\n",
    "pyautogui.hotkey('winleft', 'd')\n",
    "\n",
    "# Cliquei no arquivo que quero fazer o backup e arrastei ele\n",
    "pyautogui.moveTo(703, 336)\n",
    "pyautogui.mouseDown()\n",
    "pyautogui.moveTo(652, 593)\n",
    "\n",
    "# Enquanto arquivo é arrastado, é preciso mudar para a página do google drive usando ALT+TAB\n",
    "pyautogui.hotkey('alt', 'tab')\n",
    "time.sleep(1)\n",
    "\n",
    "# Arquivo solto na página google drive\n",
    "pyautogui.mouseUp()\n",
    "\n",
    "# Esperar 5 segundos\n",
    "time.sleep(5)\n",
    "\n",
    "pyautogui.alert('O código foi executado com sucesso. O arquivo foi transferido para o google drive')"
   ]
  },
  {
   "cell_type": "code",
   "execution_count": null,
   "id": "3484b1d7",
   "metadata": {},
   "outputs": [],
   "source": [
    "\n",
    "\n",
    "\n"
   ]
  },
  {
   "cell_type": "code",
   "execution_count": null,
   "id": "8d308f2a",
   "metadata": {},
   "outputs": [],
   "source": []
  },
  {
   "cell_type": "code",
   "execution_count": null,
   "id": "01659e30",
   "metadata": {},
   "outputs": [],
   "source": []
  }
 ],
 "metadata": {
  "kernelspec": {
   "display_name": "Python 3",
   "language": "python",
   "name": "python3"
  },
  "language_info": {
   "codemirror_mode": {
    "name": "ipython",
    "version": 3
   },
   "file_extension": ".py",
   "mimetype": "text/x-python",
   "name": "python",
   "nbconvert_exporter": "python",
   "pygments_lexer": "ipython3",
   "version": "3.8.8"
  }
 },
 "nbformat": 4,
 "nbformat_minor": 5
}
